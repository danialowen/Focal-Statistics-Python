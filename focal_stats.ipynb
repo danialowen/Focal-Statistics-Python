{
 "cells": [
  {
   "cell_type": "markdown",
   "id": "e7756419-8108-4513-8ef4-a37e7284ff69",
   "metadata": {},
   "source": [
    "# Moving Window - Focal Statistics"
   ]
  },
  {
   "cell_type": "markdown",
   "id": "7411681a-888e-4235-beff-dad41111890d",
   "metadata": {},
   "source": [
    "An example of moving window for raster data / numpy array. This approach takes the `SUM` of all unique values within the user defined window. This can be changed to the `SUM` of all values, or other metrics."
   ]
  },
  {
   "cell_type": "code",
   "execution_count": 8,
   "id": "59b7facb-7dc0-4b42-9005-79dd3a6e1f37",
   "metadata": {},
   "outputs": [],
   "source": [
    "import pandas as pd\n",
    "import numpy as np"
   ]
  },
  {
   "cell_type": "code",
   "execution_count": 9,
   "id": "e26ba534-5144-4545-babc-b456dbf13b4a",
   "metadata": {},
   "outputs": [],
   "source": [
    "# Create test data\n",
    "\n",
    "# First create a sample raster data / numpy array\n",
    "input_data = np.array([[0, 2, 3, 3, 0],\n",
    "                       [1, 1, 1, 2, 1],\n",
    "                       [5, 1, 1, 2, 0],\n",
    "                       [1, 1, 0, 3, 1],\n",
    "                       [10, 8, 1, 1, 1]])\n",
    "\n",
    "# Create a weights matrix\n",
    "weights = np.array([[0, 1, 0],\n",
    "                    [1, 1, 1],\n",
    "                    [0, 1, 0]])"
   ]
  },
  {
   "cell_type": "code",
   "execution_count": 10,
   "id": "1d730cf5-59b2-4c9e-b484-e88928c57c11",
   "metadata": {},
   "outputs": [
    {
     "name": "stdout",
     "output_type": "stream",
     "text": [
      "Input Data:\n",
      "[[ 0  2  3  3  0]\n",
      " [ 1  1  1  2  1]\n",
      " [ 5  1  1  2  0]\n",
      " [ 1  1  0  3  1]\n",
      " [10  8  1  1  1]]\n",
      "\n",
      "Weights Matrix:\n",
      "[[0 1 0]\n",
      " [1 1 1]\n",
      " [0 1 0]]\n",
      "\n",
      "Resulting Data after applying weighted unique sum:\n",
      "[[ 3  6  6  5  4]\n",
      " [ 6  3  6  6  3]\n",
      " [ 6  6  3  6  3]\n",
      " [16  9  4  6  4]\n",
      " [19 19  9  4  1]]\n"
     ]
    }
   ],
   "source": [
    "# Define the custom function that applies sums the unique values where the weights == 1\n",
    "def weighted_unique_sum(window, weights):\n",
    "    # Apply the weights\n",
    "    weighted_window = window[weights == 1]\n",
    "    # Calculate the sum of unique values\n",
    "    return np.sum(np.unique(weighted_window))\n",
    "\n",
    "# Pad the input data to handle borders\n",
    "pad_width = weights.shape[0] // 2\n",
    "padded_data = np.pad(input_data, pad_width, mode='constant', constant_values=0)\n",
    "\n",
    "# Initialize the result array\n",
    "result = np.zeros_like(input_data)\n",
    "\n",
    "# Iterate over the input data\n",
    "for i in range(result.shape[0]):\n",
    "    for j in range(result.shape[1]):\n",
    "        # Extract the window around the current cell\n",
    "        window = padded_data[i:i + weights.shape[0], j:j + weights.shape[1]]\n",
    "        # Apply the custom function to the window\n",
    "        result[i, j] = weighted_unique_sum(window, weights)\n",
    "\n",
    "print(\"Input Data:\")\n",
    "print(input_data)\n",
    "print(\"\\nWeights Matrix:\")\n",
    "print(weights)\n",
    "print(\"\\nResulting Data after applying weighted unique sum:\")\n",
    "print(result)"
   ]
  }
 ],
 "metadata": {
  "kernelspec": {
   "display_name": "Python 3 (ipykernel)",
   "language": "python",
   "name": "python3"
  },
  "language_info": {
   "codemirror_mode": {
    "name": "ipython",
    "version": 3
   },
   "file_extension": ".py",
   "mimetype": "text/x-python",
   "name": "python",
   "nbconvert_exporter": "python",
   "pygments_lexer": "ipython3",
   "version": "3.10.9"
  }
 },
 "nbformat": 4,
 "nbformat_minor": 5
}
